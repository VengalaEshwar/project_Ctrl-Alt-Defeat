{
 "cells": [
  {
   "cell_type": "code",
   "execution_count": 208,
   "id": "89764c70",
   "metadata": {
    "execution": {
     "iopub.execute_input": "2021-08-03T10:26:46.139047Z",
     "iopub.status.busy": "2021-08-03T10:26:46.137938Z",
     "iopub.status.idle": "2021-08-03T10:26:48.406711Z",
     "shell.execute_reply": "2021-08-03T10:26:48.405410Z",
     "shell.execute_reply.started": "2021-08-03T10:09:00.112316Z"
    },
    "papermill": {
     "duration": 2.342669,
     "end_time": "2021-08-03T10:26:48.406881",
     "exception": false,
     "start_time": "2021-08-03T10:26:46.064212",
     "status": "completed"
    },
    "tags": []
   },
   "outputs": [],
   "source": [
    "import pandas as pd\n",
    "import numpy as np"
   ]
  },
  {
   "cell_type": "code",
   "execution_count": 209,
   "id": "f101956a",
   "metadata": {
    "execution": {
     "iopub.execute_input": "2021-08-03T10:26:48.551923Z",
     "iopub.status.busy": "2021-08-03T10:26:48.551258Z",
     "iopub.status.idle": "2021-08-03T10:26:48.611141Z",
     "shell.execute_reply": "2021-08-03T10:26:48.611631Z",
     "shell.execute_reply.started": "2021-08-03T10:09:01.365384Z"
    },
    "papermill": {
     "duration": 0.134709,
     "end_time": "2021-08-03T10:26:48.611821",
     "exception": false,
     "start_time": "2021-08-03T10:26:48.477112",
     "status": "completed"
    },
    "tags": []
   },
   "outputs": [
    {
     "data": {
      "text/html": [
       "<div>\n",
       "<style scoped>\n",
       "    .dataframe tbody tr th:only-of-type {\n",
       "        vertical-align: middle;\n",
       "    }\n",
       "\n",
       "    .dataframe tbody tr th {\n",
       "        vertical-align: top;\n",
       "    }\n",
       "\n",
       "    .dataframe thead th {\n",
       "        text-align: right;\n",
       "    }\n",
       "</style>\n",
       "<table border=\"1\" class=\"dataframe\">\n",
       "  <thead>\n",
       "    <tr style=\"text-align: right;\">\n",
       "      <th></th>\n",
       "      <th>id</th>\n",
       "      <th>age</th>\n",
       "      <th>bp</th>\n",
       "      <th>sg</th>\n",
       "      <th>al</th>\n",
       "      <th>su</th>\n",
       "      <th>rbc</th>\n",
       "      <th>pc</th>\n",
       "      <th>pcc</th>\n",
       "      <th>ba</th>\n",
       "      <th>...</th>\n",
       "      <th>pcv</th>\n",
       "      <th>wc</th>\n",
       "      <th>rc</th>\n",
       "      <th>htn</th>\n",
       "      <th>dm</th>\n",
       "      <th>cad</th>\n",
       "      <th>appet</th>\n",
       "      <th>pe</th>\n",
       "      <th>ane</th>\n",
       "      <th>classification</th>\n",
       "    </tr>\n",
       "  </thead>\n",
       "  <tbody>\n",
       "    <tr>\n",
       "      <th>0</th>\n",
       "      <td>0</td>\n",
       "      <td>48.0</td>\n",
       "      <td>80.0</td>\n",
       "      <td>1.020</td>\n",
       "      <td>1.0</td>\n",
       "      <td>0.0</td>\n",
       "      <td>NaN</td>\n",
       "      <td>normal</td>\n",
       "      <td>notpresent</td>\n",
       "      <td>notpresent</td>\n",
       "      <td>...</td>\n",
       "      <td>44</td>\n",
       "      <td>7800</td>\n",
       "      <td>5.2</td>\n",
       "      <td>yes</td>\n",
       "      <td>yes</td>\n",
       "      <td>no</td>\n",
       "      <td>good</td>\n",
       "      <td>no</td>\n",
       "      <td>no</td>\n",
       "      <td>ckd</td>\n",
       "    </tr>\n",
       "    <tr>\n",
       "      <th>1</th>\n",
       "      <td>1</td>\n",
       "      <td>7.0</td>\n",
       "      <td>50.0</td>\n",
       "      <td>1.020</td>\n",
       "      <td>4.0</td>\n",
       "      <td>0.0</td>\n",
       "      <td>NaN</td>\n",
       "      <td>normal</td>\n",
       "      <td>notpresent</td>\n",
       "      <td>notpresent</td>\n",
       "      <td>...</td>\n",
       "      <td>38</td>\n",
       "      <td>6000</td>\n",
       "      <td>NaN</td>\n",
       "      <td>no</td>\n",
       "      <td>no</td>\n",
       "      <td>no</td>\n",
       "      <td>good</td>\n",
       "      <td>no</td>\n",
       "      <td>no</td>\n",
       "      <td>ckd</td>\n",
       "    </tr>\n",
       "    <tr>\n",
       "      <th>2</th>\n",
       "      <td>2</td>\n",
       "      <td>62.0</td>\n",
       "      <td>80.0</td>\n",
       "      <td>1.010</td>\n",
       "      <td>2.0</td>\n",
       "      <td>3.0</td>\n",
       "      <td>normal</td>\n",
       "      <td>normal</td>\n",
       "      <td>notpresent</td>\n",
       "      <td>notpresent</td>\n",
       "      <td>...</td>\n",
       "      <td>31</td>\n",
       "      <td>7500</td>\n",
       "      <td>NaN</td>\n",
       "      <td>no</td>\n",
       "      <td>yes</td>\n",
       "      <td>no</td>\n",
       "      <td>poor</td>\n",
       "      <td>no</td>\n",
       "      <td>yes</td>\n",
       "      <td>ckd</td>\n",
       "    </tr>\n",
       "    <tr>\n",
       "      <th>3</th>\n",
       "      <td>3</td>\n",
       "      <td>48.0</td>\n",
       "      <td>70.0</td>\n",
       "      <td>1.005</td>\n",
       "      <td>4.0</td>\n",
       "      <td>0.0</td>\n",
       "      <td>normal</td>\n",
       "      <td>abnormal</td>\n",
       "      <td>present</td>\n",
       "      <td>notpresent</td>\n",
       "      <td>...</td>\n",
       "      <td>32</td>\n",
       "      <td>6700</td>\n",
       "      <td>3.9</td>\n",
       "      <td>yes</td>\n",
       "      <td>no</td>\n",
       "      <td>no</td>\n",
       "      <td>poor</td>\n",
       "      <td>yes</td>\n",
       "      <td>yes</td>\n",
       "      <td>ckd</td>\n",
       "    </tr>\n",
       "    <tr>\n",
       "      <th>4</th>\n",
       "      <td>4</td>\n",
       "      <td>51.0</td>\n",
       "      <td>80.0</td>\n",
       "      <td>1.010</td>\n",
       "      <td>2.0</td>\n",
       "      <td>0.0</td>\n",
       "      <td>normal</td>\n",
       "      <td>normal</td>\n",
       "      <td>notpresent</td>\n",
       "      <td>notpresent</td>\n",
       "      <td>...</td>\n",
       "      <td>35</td>\n",
       "      <td>7300</td>\n",
       "      <td>4.6</td>\n",
       "      <td>no</td>\n",
       "      <td>no</td>\n",
       "      <td>no</td>\n",
       "      <td>good</td>\n",
       "      <td>no</td>\n",
       "      <td>no</td>\n",
       "      <td>ckd</td>\n",
       "    </tr>\n",
       "  </tbody>\n",
       "</table>\n",
       "<p>5 rows × 26 columns</p>\n",
       "</div>"
      ],
      "text/plain": [
       "   id   age    bp     sg   al   su     rbc        pc         pcc          ba  \\\n",
       "0   0  48.0  80.0  1.020  1.0  0.0     NaN    normal  notpresent  notpresent   \n",
       "1   1   7.0  50.0  1.020  4.0  0.0     NaN    normal  notpresent  notpresent   \n",
       "2   2  62.0  80.0  1.010  2.0  3.0  normal    normal  notpresent  notpresent   \n",
       "3   3  48.0  70.0  1.005  4.0  0.0  normal  abnormal     present  notpresent   \n",
       "4   4  51.0  80.0  1.010  2.0  0.0  normal    normal  notpresent  notpresent   \n",
       "\n",
       "   ...  pcv    wc   rc  htn   dm  cad appet   pe  ane classification  \n",
       "0  ...   44  7800  5.2  yes  yes   no  good   no   no            ckd  \n",
       "1  ...   38  6000  NaN   no   no   no  good   no   no            ckd  \n",
       "2  ...   31  7500  NaN   no  yes   no  poor   no  yes            ckd  \n",
       "3  ...   32  6700  3.9  yes   no   no  poor  yes  yes            ckd  \n",
       "4  ...   35  7300  4.6   no   no   no  good   no   no            ckd  \n",
       "\n",
       "[5 rows x 26 columns]"
      ]
     },
     "execution_count": 209,
     "metadata": {},
     "output_type": "execute_result"
    }
   ],
   "source": [
    "df= pd.read_csv('kidney_disease.csv')\n",
    "df.head()"
   ]
  },
  {
   "cell_type": "code",
   "execution_count": 210,
   "id": "a2142b9e",
   "metadata": {
    "execution": {
     "iopub.execute_input": "2021-08-03T10:26:48.908090Z",
     "iopub.status.busy": "2021-08-03T10:26:48.907440Z",
     "iopub.status.idle": "2021-08-03T10:26:48.915300Z",
     "shell.execute_reply": "2021-08-03T10:26:48.914746Z",
     "shell.execute_reply.started": "2021-08-03T10:09:01.421922Z"
    },
    "papermill": {
     "duration": 0.081484,
     "end_time": "2021-08-03T10:26:48.915444",
     "exception": false,
     "start_time": "2021-08-03T10:26:48.833960",
     "status": "completed"
    },
    "tags": []
   },
   "outputs": [],
   "source": [
    "df.drop('id', axis = 1, inplace = True)"
   ]
  },
  {
   "cell_type": "code",
   "execution_count": 211,
   "id": "07a84f5d",
   "metadata": {
    "execution": {
     "iopub.execute_input": "2021-08-03T10:26:49.066447Z",
     "iopub.status.busy": "2021-08-03T10:26:49.065652Z",
     "iopub.status.idle": "2021-08-03T10:26:49.068464Z",
     "shell.execute_reply": "2021-08-03T10:26:49.067989Z",
     "shell.execute_reply.started": "2021-08-03T10:09:01.432801Z"
    },
    "papermill": {
     "duration": 0.081719,
     "end_time": "2021-08-03T10:26:49.068594",
     "exception": false,
     "start_time": "2021-08-03T10:26:48.986875",
     "status": "completed"
    },
    "tags": []
   },
   "outputs": [],
   "source": [
    "# rename column names to make it more user-friendly\n",
    "\n",
    "df.columns = ['age', 'blood_pressure', 'specific_gravity', 'albumin', 'sugar', 'red_blood_cells', 'pus_cell',\n",
    "              'pus_cell_clumps', 'bacteria', 'blood_glucose_random', 'blood_urea', 'serum_creatinine', 'sodium',\n",
    "              'potassium', 'haemoglobin', 'packed_cell_volume', 'white_blood_cell_count', 'red_blood_cell_count',\n",
    "              'hypertension', 'diabetes_mellitus', 'coronary_artery_disease', 'appetite', 'peda_edema',\n",
    "              'aanemia', 'class']"
   ]
  },
  {
   "cell_type": "code",
   "execution_count": 212,
   "id": "68d8ee8b",
   "metadata": {
    "execution": {
     "iopub.execute_input": "2021-08-03T10:26:49.213981Z",
     "iopub.status.busy": "2021-08-03T10:26:49.213021Z",
     "iopub.status.idle": "2021-08-03T10:26:49.245737Z",
     "shell.execute_reply": "2021-08-03T10:26:49.245204Z",
     "shell.execute_reply.started": "2021-08-03T10:09:01.443762Z"
    },
    "papermill": {
     "duration": 0.10622,
     "end_time": "2021-08-03T10:26:49.245870",
     "exception": false,
     "start_time": "2021-08-03T10:26:49.139650",
     "status": "completed"
    },
    "tags": []
   },
   "outputs": [
    {
     "data": {
      "text/html": [
       "<div>\n",
       "<style scoped>\n",
       "    .dataframe tbody tr th:only-of-type {\n",
       "        vertical-align: middle;\n",
       "    }\n",
       "\n",
       "    .dataframe tbody tr th {\n",
       "        vertical-align: top;\n",
       "    }\n",
       "\n",
       "    .dataframe thead th {\n",
       "        text-align: right;\n",
       "    }\n",
       "</style>\n",
       "<table border=\"1\" class=\"dataframe\">\n",
       "  <thead>\n",
       "    <tr style=\"text-align: right;\">\n",
       "      <th></th>\n",
       "      <th>age</th>\n",
       "      <th>blood_pressure</th>\n",
       "      <th>specific_gravity</th>\n",
       "      <th>albumin</th>\n",
       "      <th>sugar</th>\n",
       "      <th>red_blood_cells</th>\n",
       "      <th>pus_cell</th>\n",
       "      <th>pus_cell_clumps</th>\n",
       "      <th>bacteria</th>\n",
       "      <th>blood_glucose_random</th>\n",
       "      <th>...</th>\n",
       "      <th>packed_cell_volume</th>\n",
       "      <th>white_blood_cell_count</th>\n",
       "      <th>red_blood_cell_count</th>\n",
       "      <th>hypertension</th>\n",
       "      <th>diabetes_mellitus</th>\n",
       "      <th>coronary_artery_disease</th>\n",
       "      <th>appetite</th>\n",
       "      <th>peda_edema</th>\n",
       "      <th>aanemia</th>\n",
       "      <th>class</th>\n",
       "    </tr>\n",
       "  </thead>\n",
       "  <tbody>\n",
       "    <tr>\n",
       "      <th>0</th>\n",
       "      <td>48.0</td>\n",
       "      <td>80.0</td>\n",
       "      <td>1.020</td>\n",
       "      <td>1.0</td>\n",
       "      <td>0.0</td>\n",
       "      <td>NaN</td>\n",
       "      <td>normal</td>\n",
       "      <td>notpresent</td>\n",
       "      <td>notpresent</td>\n",
       "      <td>121.0</td>\n",
       "      <td>...</td>\n",
       "      <td>44</td>\n",
       "      <td>7800</td>\n",
       "      <td>5.2</td>\n",
       "      <td>yes</td>\n",
       "      <td>yes</td>\n",
       "      <td>no</td>\n",
       "      <td>good</td>\n",
       "      <td>no</td>\n",
       "      <td>no</td>\n",
       "      <td>ckd</td>\n",
       "    </tr>\n",
       "    <tr>\n",
       "      <th>1</th>\n",
       "      <td>7.0</td>\n",
       "      <td>50.0</td>\n",
       "      <td>1.020</td>\n",
       "      <td>4.0</td>\n",
       "      <td>0.0</td>\n",
       "      <td>NaN</td>\n",
       "      <td>normal</td>\n",
       "      <td>notpresent</td>\n",
       "      <td>notpresent</td>\n",
       "      <td>NaN</td>\n",
       "      <td>...</td>\n",
       "      <td>38</td>\n",
       "      <td>6000</td>\n",
       "      <td>NaN</td>\n",
       "      <td>no</td>\n",
       "      <td>no</td>\n",
       "      <td>no</td>\n",
       "      <td>good</td>\n",
       "      <td>no</td>\n",
       "      <td>no</td>\n",
       "      <td>ckd</td>\n",
       "    </tr>\n",
       "    <tr>\n",
       "      <th>2</th>\n",
       "      <td>62.0</td>\n",
       "      <td>80.0</td>\n",
       "      <td>1.010</td>\n",
       "      <td>2.0</td>\n",
       "      <td>3.0</td>\n",
       "      <td>normal</td>\n",
       "      <td>normal</td>\n",
       "      <td>notpresent</td>\n",
       "      <td>notpresent</td>\n",
       "      <td>423.0</td>\n",
       "      <td>...</td>\n",
       "      <td>31</td>\n",
       "      <td>7500</td>\n",
       "      <td>NaN</td>\n",
       "      <td>no</td>\n",
       "      <td>yes</td>\n",
       "      <td>no</td>\n",
       "      <td>poor</td>\n",
       "      <td>no</td>\n",
       "      <td>yes</td>\n",
       "      <td>ckd</td>\n",
       "    </tr>\n",
       "    <tr>\n",
       "      <th>3</th>\n",
       "      <td>48.0</td>\n",
       "      <td>70.0</td>\n",
       "      <td>1.005</td>\n",
       "      <td>4.0</td>\n",
       "      <td>0.0</td>\n",
       "      <td>normal</td>\n",
       "      <td>abnormal</td>\n",
       "      <td>present</td>\n",
       "      <td>notpresent</td>\n",
       "      <td>117.0</td>\n",
       "      <td>...</td>\n",
       "      <td>32</td>\n",
       "      <td>6700</td>\n",
       "      <td>3.9</td>\n",
       "      <td>yes</td>\n",
       "      <td>no</td>\n",
       "      <td>no</td>\n",
       "      <td>poor</td>\n",
       "      <td>yes</td>\n",
       "      <td>yes</td>\n",
       "      <td>ckd</td>\n",
       "    </tr>\n",
       "    <tr>\n",
       "      <th>4</th>\n",
       "      <td>51.0</td>\n",
       "      <td>80.0</td>\n",
       "      <td>1.010</td>\n",
       "      <td>2.0</td>\n",
       "      <td>0.0</td>\n",
       "      <td>normal</td>\n",
       "      <td>normal</td>\n",
       "      <td>notpresent</td>\n",
       "      <td>notpresent</td>\n",
       "      <td>106.0</td>\n",
       "      <td>...</td>\n",
       "      <td>35</td>\n",
       "      <td>7300</td>\n",
       "      <td>4.6</td>\n",
       "      <td>no</td>\n",
       "      <td>no</td>\n",
       "      <td>no</td>\n",
       "      <td>good</td>\n",
       "      <td>no</td>\n",
       "      <td>no</td>\n",
       "      <td>ckd</td>\n",
       "    </tr>\n",
       "  </tbody>\n",
       "</table>\n",
       "<p>5 rows × 25 columns</p>\n",
       "</div>"
      ],
      "text/plain": [
       "    age  blood_pressure  specific_gravity  albumin  sugar red_blood_cells  \\\n",
       "0  48.0            80.0             1.020      1.0    0.0             NaN   \n",
       "1   7.0            50.0             1.020      4.0    0.0             NaN   \n",
       "2  62.0            80.0             1.010      2.0    3.0          normal   \n",
       "3  48.0            70.0             1.005      4.0    0.0          normal   \n",
       "4  51.0            80.0             1.010      2.0    0.0          normal   \n",
       "\n",
       "   pus_cell pus_cell_clumps    bacteria  blood_glucose_random  ...  \\\n",
       "0    normal      notpresent  notpresent                 121.0  ...   \n",
       "1    normal      notpresent  notpresent                   NaN  ...   \n",
       "2    normal      notpresent  notpresent                 423.0  ...   \n",
       "3  abnormal         present  notpresent                 117.0  ...   \n",
       "4    normal      notpresent  notpresent                 106.0  ...   \n",
       "\n",
       "   packed_cell_volume  white_blood_cell_count  red_blood_cell_count  \\\n",
       "0                  44                    7800                   5.2   \n",
       "1                  38                    6000                   NaN   \n",
       "2                  31                    7500                   NaN   \n",
       "3                  32                    6700                   3.9   \n",
       "4                  35                    7300                   4.6   \n",
       "\n",
       "   hypertension  diabetes_mellitus coronary_artery_disease appetite  \\\n",
       "0           yes                yes                      no     good   \n",
       "1            no                 no                      no     good   \n",
       "2            no                yes                      no     poor   \n",
       "3           yes                 no                      no     poor   \n",
       "4            no                 no                      no     good   \n",
       "\n",
       "  peda_edema aanemia class  \n",
       "0         no      no   ckd  \n",
       "1         no      no   ckd  \n",
       "2         no     yes   ckd  \n",
       "3        yes     yes   ckd  \n",
       "4         no      no   ckd  \n",
       "\n",
       "[5 rows x 25 columns]"
      ]
     },
     "execution_count": 212,
     "metadata": {},
     "output_type": "execute_result"
    }
   ],
   "source": [
    "df.head()"
   ]
  },
  {
   "cell_type": "code",
   "execution_count": 213,
   "id": "8f28e32f",
   "metadata": {
    "execution": {
     "iopub.execute_input": "2021-08-03T10:26:49.902331Z",
     "iopub.status.busy": "2021-08-03T10:26:49.901626Z",
     "iopub.status.idle": "2021-08-03T10:26:49.904380Z",
     "shell.execute_reply": "2021-08-03T10:26:49.903919Z",
     "shell.execute_reply.started": "2021-08-03T10:09:01.549774Z"
    },
    "papermill": {
     "duration": 0.083074,
     "end_time": "2021-08-03T10:26:49.904522",
     "exception": false,
     "start_time": "2021-08-03T10:26:49.821448",
     "status": "completed"
    },
    "tags": []
   },
   "outputs": [],
   "source": [
    "df['packed_cell_volume'] = pd.to_numeric(df['packed_cell_volume'], errors='coerce')\n",
    "df['white_blood_cell_count'] = pd.to_numeric(df['white_blood_cell_count'], errors='coerce')\n",
    "df['red_blood_cell_count'] = pd.to_numeric(df['red_blood_cell_count'], errors='coerce')"
   ]
  },
  {
   "cell_type": "code",
   "execution_count": 214,
   "id": "c419242f",
   "metadata": {
    "execution": {
     "iopub.execute_input": "2021-08-03T10:26:50.223748Z",
     "iopub.status.busy": "2021-08-03T10:26:50.223063Z",
     "iopub.status.idle": "2021-08-03T10:26:50.225817Z",
     "shell.execute_reply": "2021-08-03T10:26:50.225321Z",
     "shell.execute_reply.started": "2021-08-03T10:09:01.582692Z"
    },
    "papermill": {
     "duration": 0.081228,
     "end_time": "2021-08-03T10:26:50.225955",
     "exception": false,
     "start_time": "2021-08-03T10:26:50.144727",
     "status": "completed"
    },
    "tags": []
   },
   "outputs": [],
   "source": [
    "cat_cols = [col for col in df.columns if df[col].dtype == 'object']\n",
    "num_cols = [col for col in df.columns if df[col].dtype != 'object']"
   ]
  },
  {
   "cell_type": "code",
   "execution_count": 215,
   "id": "f754b17f",
   "metadata": {
    "execution": {
     "iopub.execute_input": "2021-08-03T10:26:50.379409Z",
     "iopub.status.busy": "2021-08-03T10:26:50.378737Z",
     "iopub.status.idle": "2021-08-03T10:26:50.382790Z",
     "shell.execute_reply": "2021-08-03T10:26:50.382136Z",
     "shell.execute_reply.started": "2021-08-03T10:09:01.591181Z"
    },
    "papermill": {
     "duration": 0.083961,
     "end_time": "2021-08-03T10:26:50.382941",
     "exception": false,
     "start_time": "2021-08-03T10:26:50.298980",
     "status": "completed"
    },
    "tags": []
   },
   "outputs": [
    {
     "name": "stdout",
     "output_type": "stream",
     "text": [
      "red_blood_cells has [nan 'normal' 'abnormal'] values\n",
      "\n",
      "pus_cell has ['normal' 'abnormal' nan] values\n",
      "\n",
      "pus_cell_clumps has ['notpresent' 'present' nan] values\n",
      "\n",
      "bacteria has ['notpresent' 'present' nan] values\n",
      "\n",
      "hypertension has ['yes' 'no' nan] values\n",
      "\n",
      "diabetes_mellitus has ['yes' 'no' ' yes' '\\tno' '\\tyes' nan] values\n",
      "\n",
      "coronary_artery_disease has ['no' 'yes' '\\tno' nan] values\n",
      "\n",
      "appetite has ['good' 'poor' nan] values\n",
      "\n",
      "peda_edema has ['no' 'yes' nan] values\n",
      "\n",
      "aanemia has ['no' 'yes' nan] values\n",
      "\n",
      "class has ['ckd' 'ckd\\t' 'notckd'] values\n",
      "\n"
     ]
    }
   ],
   "source": [
    "for col in cat_cols:\n",
    "    print(f\"{col} has {df[col].unique()} values\\n\")"
   ]
  },
  {
   "cell_type": "code",
   "execution_count": 216,
   "id": "9685ff4a",
   "metadata": {
    "execution": {
     "iopub.execute_input": "2021-08-03T10:26:50.687621Z",
     "iopub.status.busy": "2021-08-03T10:26:50.686998Z",
     "iopub.status.idle": "2021-08-03T10:26:50.689742Z",
     "shell.execute_reply": "2021-08-03T10:26:50.689232Z",
     "shell.execute_reply.started": "2021-08-03T10:09:01.602242Z"
    },
    "papermill": {
     "duration": 0.084758,
     "end_time": "2021-08-03T10:26:50.689885",
     "exception": false,
     "start_time": "2021-08-03T10:26:50.605127",
     "status": "completed"
    },
    "tags": []
   },
   "outputs": [
    {
     "name": "stderr",
     "output_type": "stream",
     "text": [
      "C:\\Users\\Dell\\AppData\\Local\\Temp\\ipykernel_8776\\1057463091.py:1: FutureWarning: A value is trying to be set on a copy of a DataFrame or Series through chained assignment using an inplace method.\n",
      "The behavior will change in pandas 3.0. This inplace method will never work because the intermediate object on which we are setting values always behaves as a copy.\n",
      "\n",
      "For example, when doing 'df[col].method(value, inplace=True)', try using 'df.method({col: value}, inplace=True)' or df[col] = df[col].method(value) instead, to perform the operation inplace on the original object.\n",
      "\n",
      "\n",
      "  df['diabetes_mellitus'].replace(to_replace = {'\\tno':'no','\\tyes':'yes',' yes':'yes'},inplace=True)\n"
     ]
    }
   ],
   "source": [
    "df['diabetes_mellitus'].replace(to_replace = {'\\tno':'no','\\tyes':'yes',' yes':'yes'},inplace=True)\n",
    "df['coronary_artery_disease'] = df['coronary_artery_disease'].replace(to_replace = '\\tno', value='no')\n",
    "df['class'] = df['class'].replace(to_replace = {'ckd\\t': 'ckd', 'notckd': 'not ckd'})"
   ]
  },
  {
   "cell_type": "code",
   "execution_count": 217,
   "id": "223ae9c3",
   "metadata": {
    "execution": {
     "iopub.execute_input": "2021-08-03T10:26:50.845512Z",
     "iopub.status.busy": "2021-08-03T10:26:50.844875Z",
     "iopub.status.idle": "2021-08-03T10:26:50.849393Z",
     "shell.execute_reply": "2021-08-03T10:26:50.848885Z",
     "shell.execute_reply.started": "2021-08-03T10:09:01.615709Z"
    },
    "papermill": {
     "duration": 0.085716,
     "end_time": "2021-08-03T10:26:50.849530",
     "exception": false,
     "start_time": "2021-08-03T10:26:50.763814",
     "status": "completed"
    },
    "tags": []
   },
   "outputs": [],
   "source": [
    "df['class'] = df['class'].map({'ckd': 0, 'not ckd': 1})\n",
    "df['class'] = pd.to_numeric(df['class'], errors='coerce')"
   ]
  },
  {
   "cell_type": "code",
   "execution_count": 218,
   "id": "16e7f4b5",
   "metadata": {
    "execution": {
     "iopub.execute_input": "2021-08-03T10:26:51.005315Z",
     "iopub.status.busy": "2021-08-03T10:26:51.004637Z",
     "iopub.status.idle": "2021-08-03T10:26:51.008157Z",
     "shell.execute_reply": "2021-08-03T10:26:51.008598Z",
     "shell.execute_reply.started": "2021-08-03T10:09:01.630452Z"
    },
    "papermill": {
     "duration": 0.084823,
     "end_time": "2021-08-03T10:26:51.008781",
     "exception": false,
     "start_time": "2021-08-03T10:26:50.923958",
     "status": "completed"
    },
    "tags": []
   },
   "outputs": [
    {
     "name": "stdout",
     "output_type": "stream",
     "text": [
      "diabetes_mellitus has ['yes' 'no' nan] values\n",
      "\n",
      "coronary_artery_disease has ['no' 'yes' nan] values\n",
      "\n",
      "class has [0 1] values\n",
      "\n"
     ]
    }
   ],
   "source": [
    "cols = ['diabetes_mellitus', 'coronary_artery_disease', 'class']\n",
    "for col in cols:\n",
    "    print(f\"{col} has {df[col].unique()} values\\n\")"
   ]
  },
  {
   "cell_type": "code",
   "execution_count": 219,
   "id": "f80213d4",
   "metadata": {
    "execution": {
     "iopub.execute_input": "2021-08-03T10:27:10.363798Z",
     "iopub.status.busy": "2021-08-03T10:27:10.363133Z",
     "iopub.status.idle": "2021-08-03T10:27:10.365893Z",
     "shell.execute_reply": "2021-08-03T10:27:10.366474Z",
     "shell.execute_reply.started": "2021-08-03T10:09:12.290447Z"
    },
    "papermill": {
     "duration": 0.123788,
     "end_time": "2021-08-03T10:27:10.366637",
     "exception": false,
     "start_time": "2021-08-03T10:27:10.242849",
     "status": "completed"
    },
    "tags": []
   },
   "outputs": [
    {
     "data": {
      "text/plain": [
       "red_blood_cells            152\n",
       "red_blood_cell_count       131\n",
       "white_blood_cell_count     106\n",
       "potassium                   88\n",
       "sodium                      87\n",
       "packed_cell_volume          71\n",
       "pus_cell                    65\n",
       "haemoglobin                 52\n",
       "sugar                       49\n",
       "specific_gravity            47\n",
       "albumin                     46\n",
       "blood_glucose_random        44\n",
       "blood_urea                  19\n",
       "serum_creatinine            17\n",
       "blood_pressure              12\n",
       "age                          9\n",
       "bacteria                     4\n",
       "pus_cell_clumps              4\n",
       "hypertension                 2\n",
       "diabetes_mellitus            2\n",
       "coronary_artery_disease      2\n",
       "appetite                     1\n",
       "peda_edema                   1\n",
       "aanemia                      1\n",
       "class                        0\n",
       "dtype: int64"
      ]
     },
     "execution_count": 219,
     "metadata": {},
     "output_type": "execute_result"
    }
   ],
   "source": [
    "df.isna().sum().sort_values(ascending = False)"
   ]
  },
  {
   "cell_type": "code",
   "execution_count": 220,
   "id": "ba098c4d",
   "metadata": {
    "execution": {
     "iopub.execute_input": "2021-08-03T10:27:10.601845Z",
     "iopub.status.busy": "2021-08-03T10:27:10.601165Z",
     "iopub.status.idle": "2021-08-03T10:27:10.604705Z",
     "shell.execute_reply": "2021-08-03T10:27:10.604173Z",
     "shell.execute_reply.started": "2021-08-03T10:09:12.299622Z"
    },
    "papermill": {
     "duration": 0.126099,
     "end_time": "2021-08-03T10:27:10.604839",
     "exception": false,
     "start_time": "2021-08-03T10:27:10.478740",
     "status": "completed"
    },
    "tags": []
   },
   "outputs": [
    {
     "data": {
      "text/plain": [
       "age                         9\n",
       "blood_pressure             12\n",
       "specific_gravity           47\n",
       "albumin                    46\n",
       "sugar                      49\n",
       "blood_glucose_random       44\n",
       "blood_urea                 19\n",
       "serum_creatinine           17\n",
       "sodium                     87\n",
       "potassium                  88\n",
       "haemoglobin                52\n",
       "packed_cell_volume         71\n",
       "white_blood_cell_count    106\n",
       "red_blood_cell_count      131\n",
       "dtype: int64"
      ]
     },
     "execution_count": 220,
     "metadata": {},
     "output_type": "execute_result"
    }
   ],
   "source": [
    "df[num_cols].isnull().sum()"
   ]
  },
  {
   "cell_type": "code",
   "execution_count": 221,
   "id": "53fd363f",
   "metadata": {
    "execution": {
     "iopub.execute_input": "2021-08-03T10:27:10.840710Z",
     "iopub.status.busy": "2021-08-03T10:27:10.839875Z",
     "iopub.status.idle": "2021-08-03T10:27:10.843209Z",
     "shell.execute_reply": "2021-08-03T10:27:10.843774Z",
     "shell.execute_reply.started": "2021-08-03T10:09:12.313901Z"
    },
    "papermill": {
     "duration": 0.124901,
     "end_time": "2021-08-03T10:27:10.843945",
     "exception": false,
     "start_time": "2021-08-03T10:27:10.719044",
     "status": "completed"
    },
    "tags": []
   },
   "outputs": [
    {
     "data": {
      "text/plain": [
       "red_blood_cells            152\n",
       "pus_cell                    65\n",
       "pus_cell_clumps              4\n",
       "bacteria                     4\n",
       "hypertension                 2\n",
       "diabetes_mellitus            2\n",
       "coronary_artery_disease      2\n",
       "appetite                     1\n",
       "peda_edema                   1\n",
       "aanemia                      1\n",
       "class                        0\n",
       "dtype: int64"
      ]
     },
     "execution_count": 221,
     "metadata": {},
     "output_type": "execute_result"
    }
   ],
   "source": [
    "df[cat_cols].isnull().sum()"
   ]
  },
  {
   "cell_type": "code",
   "execution_count": 222,
   "id": "60a279ff",
   "metadata": {
    "execution": {
     "iopub.execute_input": "2021-08-03T10:27:11.074541Z",
     "iopub.status.busy": "2021-08-03T10:27:11.073494Z",
     "iopub.status.idle": "2021-08-03T10:27:11.079799Z",
     "shell.execute_reply": "2021-08-03T10:27:11.080308Z",
     "shell.execute_reply.started": "2021-08-03T10:09:12.329206Z"
    },
    "papermill": {
     "duration": 0.121529,
     "end_time": "2021-08-03T10:27:11.080479",
     "exception": false,
     "start_time": "2021-08-03T10:27:10.958950",
     "status": "completed"
    },
    "tags": []
   },
   "outputs": [],
   "source": [
    "def random_value_imputation(feature):\n",
    "    random_sample = df[feature].dropna().sample(df[feature].isna().sum())\n",
    "    random_sample.index = df[df[feature].isnull()].index\n",
    "    df.loc[df[feature].isnull(), feature] = random_sample\n",
    "  \n",
    "def impute_mode(feature):\n",
    "    mode = df[feature].mode()[0]\n",
    "    df[feature] = df[feature].fillna(mode)"
   ]
  },
  {
   "cell_type": "code",
   "execution_count": 223,
   "id": "8977f691",
   "metadata": {
    "execution": {
     "iopub.execute_input": "2021-08-03T10:27:11.323099Z",
     "iopub.status.busy": "2021-08-03T10:27:11.322433Z",
     "iopub.status.idle": "2021-08-03T10:27:11.340434Z",
     "shell.execute_reply": "2021-08-03T10:27:11.341020Z",
     "shell.execute_reply.started": "2021-08-03T10:09:12.339320Z"
    },
    "papermill": {
     "duration": 0.14567,
     "end_time": "2021-08-03T10:27:11.341199",
     "exception": false,
     "start_time": "2021-08-03T10:27:11.195529",
     "status": "completed"
    },
    "tags": []
   },
   "outputs": [],
   "source": [
    "for col in num_cols:\n",
    "    random_value_imputation(col)"
   ]
  },
  {
   "cell_type": "code",
   "execution_count": 224,
   "id": "6494929f",
   "metadata": {
    "execution": {
     "iopub.execute_input": "2021-08-03T10:27:11.580008Z",
     "iopub.status.busy": "2021-08-03T10:27:11.579143Z",
     "iopub.status.idle": "2021-08-03T10:27:11.582616Z",
     "shell.execute_reply": "2021-08-03T10:27:11.583124Z",
     "shell.execute_reply.started": "2021-08-03T10:09:12.375800Z"
    },
    "papermill": {
     "duration": 0.128198,
     "end_time": "2021-08-03T10:27:11.583291",
     "exception": false,
     "start_time": "2021-08-03T10:27:11.455093",
     "status": "completed"
    },
    "tags": []
   },
   "outputs": [
    {
     "data": {
      "text/plain": [
       "age                       0\n",
       "blood_pressure            0\n",
       "specific_gravity          0\n",
       "albumin                   0\n",
       "sugar                     0\n",
       "blood_glucose_random      0\n",
       "blood_urea                0\n",
       "serum_creatinine          0\n",
       "sodium                    0\n",
       "potassium                 0\n",
       "haemoglobin               0\n",
       "packed_cell_volume        0\n",
       "white_blood_cell_count    0\n",
       "red_blood_cell_count      0\n",
       "dtype: int64"
      ]
     },
     "execution_count": 224,
     "metadata": {},
     "output_type": "execute_result"
    }
   ],
   "source": [
    "df[num_cols].isnull().sum()"
   ]
  },
  {
   "cell_type": "code",
   "execution_count": 225,
   "id": "075163c6",
   "metadata": {
    "execution": {
     "iopub.execute_input": "2021-08-03T10:27:11.816216Z",
     "iopub.status.busy": "2021-08-03T10:27:11.815527Z",
     "iopub.status.idle": "2021-08-03T10:27:11.831880Z",
     "shell.execute_reply": "2021-08-03T10:27:11.832364Z",
     "shell.execute_reply.started": "2021-08-03T10:09:12.386026Z"
    },
    "papermill": {
     "duration": 0.13398,
     "end_time": "2021-08-03T10:27:11.832599",
     "exception": false,
     "start_time": "2021-08-03T10:27:11.698619",
     "status": "completed"
    },
    "tags": []
   },
   "outputs": [],
   "source": [
    "random_value_imputation('red_blood_cells')\n",
    "random_value_imputation('pus_cell')\n",
    "\n",
    "for col in cat_cols:\n",
    "    impute_mode(col)"
   ]
  },
  {
   "cell_type": "code",
   "execution_count": 226,
   "id": "6aba043e",
   "metadata": {
    "execution": {
     "iopub.execute_input": "2021-08-03T10:27:12.066240Z",
     "iopub.status.busy": "2021-08-03T10:27:12.065576Z",
     "iopub.status.idle": "2021-08-03T10:27:12.074770Z",
     "shell.execute_reply": "2021-08-03T10:27:12.074192Z",
     "shell.execute_reply.started": "2021-08-03T10:09:12.409722Z"
    },
    "papermill": {
     "duration": 0.128218,
     "end_time": "2021-08-03T10:27:12.074909",
     "exception": false,
     "start_time": "2021-08-03T10:27:11.946691",
     "status": "completed"
    },
    "tags": []
   },
   "outputs": [
    {
     "data": {
      "text/plain": [
       "red_blood_cells            0\n",
       "pus_cell                   0\n",
       "pus_cell_clumps            0\n",
       "bacteria                   0\n",
       "hypertension               0\n",
       "diabetes_mellitus          0\n",
       "coronary_artery_disease    0\n",
       "appetite                   0\n",
       "peda_edema                 0\n",
       "aanemia                    0\n",
       "class                      0\n",
       "dtype: int64"
      ]
     },
     "execution_count": 226,
     "metadata": {},
     "output_type": "execute_result"
    }
   ],
   "source": [
    "df[cat_cols].isnull().sum()"
   ]
  },
  {
   "cell_type": "code",
   "execution_count": 227,
   "id": "5c8e2126",
   "metadata": {
    "execution": {
     "iopub.execute_input": "2021-08-03T10:27:13.244518Z",
     "iopub.status.busy": "2021-08-03T10:27:13.243804Z",
     "iopub.status.idle": "2021-08-03T10:27:13.371863Z",
     "shell.execute_reply": "2021-08-03T10:27:13.371208Z",
     "shell.execute_reply.started": "2021-08-03T10:09:12.445409Z"
    },
    "papermill": {
     "duration": 0.248224,
     "end_time": "2021-08-03T10:27:13.372008",
     "exception": false,
     "start_time": "2021-08-03T10:27:13.123784",
     "status": "completed"
    },
    "tags": []
   },
   "outputs": [],
   "source": [
    "from sklearn.preprocessing import LabelEncoder\n",
    "le = LabelEncoder()\n",
    "for col in cat_cols:\n",
    "    df[col] = le.fit_transform(df[col])"
   ]
  },
  {
   "cell_type": "code",
   "execution_count": 228,
   "id": "5f3d91ef",
   "metadata": {
    "execution": {
     "iopub.execute_input": "2021-08-03T10:27:13.632398Z",
     "iopub.status.busy": "2021-08-03T10:27:13.631424Z",
     "iopub.status.idle": "2021-08-03T10:27:13.635803Z",
     "shell.execute_reply": "2021-08-03T10:27:13.635106Z",
     "shell.execute_reply.started": "2021-08-03T10:09:12.488522Z"
    },
    "papermill": {
     "duration": 0.14916,
     "end_time": "2021-08-03T10:27:13.635946",
     "exception": false,
     "start_time": "2021-08-03T10:27:13.486786",
     "status": "completed"
    },
    "tags": []
   },
   "outputs": [
    {
     "data": {
      "text/html": [
       "<div>\n",
       "<style scoped>\n",
       "    .dataframe tbody tr th:only-of-type {\n",
       "        vertical-align: middle;\n",
       "    }\n",
       "\n",
       "    .dataframe tbody tr th {\n",
       "        vertical-align: top;\n",
       "    }\n",
       "\n",
       "    .dataframe thead th {\n",
       "        text-align: right;\n",
       "    }\n",
       "</style>\n",
       "<table border=\"1\" class=\"dataframe\">\n",
       "  <thead>\n",
       "    <tr style=\"text-align: right;\">\n",
       "      <th></th>\n",
       "      <th>age</th>\n",
       "      <th>blood_pressure</th>\n",
       "      <th>specific_gravity</th>\n",
       "      <th>albumin</th>\n",
       "      <th>sugar</th>\n",
       "      <th>red_blood_cells</th>\n",
       "      <th>pus_cell</th>\n",
       "      <th>pus_cell_clumps</th>\n",
       "      <th>bacteria</th>\n",
       "      <th>blood_glucose_random</th>\n",
       "      <th>...</th>\n",
       "      <th>packed_cell_volume</th>\n",
       "      <th>white_blood_cell_count</th>\n",
       "      <th>red_blood_cell_count</th>\n",
       "      <th>hypertension</th>\n",
       "      <th>diabetes_mellitus</th>\n",
       "      <th>coronary_artery_disease</th>\n",
       "      <th>appetite</th>\n",
       "      <th>peda_edema</th>\n",
       "      <th>aanemia</th>\n",
       "      <th>class</th>\n",
       "    </tr>\n",
       "  </thead>\n",
       "  <tbody>\n",
       "    <tr>\n",
       "      <th>0</th>\n",
       "      <td>48.0</td>\n",
       "      <td>80.0</td>\n",
       "      <td>1.020</td>\n",
       "      <td>1.0</td>\n",
       "      <td>0.0</td>\n",
       "      <td>0</td>\n",
       "      <td>1</td>\n",
       "      <td>0</td>\n",
       "      <td>0</td>\n",
       "      <td>121.0</td>\n",
       "      <td>...</td>\n",
       "      <td>44.0</td>\n",
       "      <td>7800.0</td>\n",
       "      <td>5.2</td>\n",
       "      <td>1</td>\n",
       "      <td>1</td>\n",
       "      <td>0</td>\n",
       "      <td>0</td>\n",
       "      <td>0</td>\n",
       "      <td>0</td>\n",
       "      <td>0</td>\n",
       "    </tr>\n",
       "    <tr>\n",
       "      <th>1</th>\n",
       "      <td>7.0</td>\n",
       "      <td>50.0</td>\n",
       "      <td>1.020</td>\n",
       "      <td>4.0</td>\n",
       "      <td>0.0</td>\n",
       "      <td>1</td>\n",
       "      <td>1</td>\n",
       "      <td>0</td>\n",
       "      <td>0</td>\n",
       "      <td>268.0</td>\n",
       "      <td>...</td>\n",
       "      <td>38.0</td>\n",
       "      <td>6000.0</td>\n",
       "      <td>4.6</td>\n",
       "      <td>0</td>\n",
       "      <td>0</td>\n",
       "      <td>0</td>\n",
       "      <td>0</td>\n",
       "      <td>0</td>\n",
       "      <td>0</td>\n",
       "      <td>0</td>\n",
       "    </tr>\n",
       "    <tr>\n",
       "      <th>2</th>\n",
       "      <td>62.0</td>\n",
       "      <td>80.0</td>\n",
       "      <td>1.010</td>\n",
       "      <td>2.0</td>\n",
       "      <td>3.0</td>\n",
       "      <td>1</td>\n",
       "      <td>1</td>\n",
       "      <td>0</td>\n",
       "      <td>0</td>\n",
       "      <td>423.0</td>\n",
       "      <td>...</td>\n",
       "      <td>31.0</td>\n",
       "      <td>7500.0</td>\n",
       "      <td>6.1</td>\n",
       "      <td>0</td>\n",
       "      <td>1</td>\n",
       "      <td>0</td>\n",
       "      <td>1</td>\n",
       "      <td>0</td>\n",
       "      <td>1</td>\n",
       "      <td>0</td>\n",
       "    </tr>\n",
       "    <tr>\n",
       "      <th>3</th>\n",
       "      <td>48.0</td>\n",
       "      <td>70.0</td>\n",
       "      <td>1.005</td>\n",
       "      <td>4.0</td>\n",
       "      <td>0.0</td>\n",
       "      <td>1</td>\n",
       "      <td>0</td>\n",
       "      <td>1</td>\n",
       "      <td>0</td>\n",
       "      <td>117.0</td>\n",
       "      <td>...</td>\n",
       "      <td>32.0</td>\n",
       "      <td>6700.0</td>\n",
       "      <td>3.9</td>\n",
       "      <td>1</td>\n",
       "      <td>0</td>\n",
       "      <td>0</td>\n",
       "      <td>1</td>\n",
       "      <td>1</td>\n",
       "      <td>1</td>\n",
       "      <td>0</td>\n",
       "    </tr>\n",
       "    <tr>\n",
       "      <th>4</th>\n",
       "      <td>51.0</td>\n",
       "      <td>80.0</td>\n",
       "      <td>1.010</td>\n",
       "      <td>2.0</td>\n",
       "      <td>0.0</td>\n",
       "      <td>1</td>\n",
       "      <td>1</td>\n",
       "      <td>0</td>\n",
       "      <td>0</td>\n",
       "      <td>106.0</td>\n",
       "      <td>...</td>\n",
       "      <td>35.0</td>\n",
       "      <td>7300.0</td>\n",
       "      <td>4.6</td>\n",
       "      <td>0</td>\n",
       "      <td>0</td>\n",
       "      <td>0</td>\n",
       "      <td>0</td>\n",
       "      <td>0</td>\n",
       "      <td>0</td>\n",
       "      <td>0</td>\n",
       "    </tr>\n",
       "  </tbody>\n",
       "</table>\n",
       "<p>5 rows × 25 columns</p>\n",
       "</div>"
      ],
      "text/plain": [
       "    age  blood_pressure  specific_gravity  albumin  sugar  red_blood_cells  \\\n",
       "0  48.0            80.0             1.020      1.0    0.0                0   \n",
       "1   7.0            50.0             1.020      4.0    0.0                1   \n",
       "2  62.0            80.0             1.010      2.0    3.0                1   \n",
       "3  48.0            70.0             1.005      4.0    0.0                1   \n",
       "4  51.0            80.0             1.010      2.0    0.0                1   \n",
       "\n",
       "   pus_cell  pus_cell_clumps  bacteria  blood_glucose_random  ...  \\\n",
       "0         1                0         0                 121.0  ...   \n",
       "1         1                0         0                 268.0  ...   \n",
       "2         1                0         0                 423.0  ...   \n",
       "3         0                1         0                 117.0  ...   \n",
       "4         1                0         0                 106.0  ...   \n",
       "\n",
       "   packed_cell_volume  white_blood_cell_count  red_blood_cell_count  \\\n",
       "0                44.0                  7800.0                   5.2   \n",
       "1                38.0                  6000.0                   4.6   \n",
       "2                31.0                  7500.0                   6.1   \n",
       "3                32.0                  6700.0                   3.9   \n",
       "4                35.0                  7300.0                   4.6   \n",
       "\n",
       "   hypertension  diabetes_mellitus  coronary_artery_disease  appetite  \\\n",
       "0             1                  1                        0         0   \n",
       "1             0                  0                        0         0   \n",
       "2             0                  1                        0         1   \n",
       "3             1                  0                        0         1   \n",
       "4             0                  0                        0         0   \n",
       "\n",
       "   peda_edema  aanemia  class  \n",
       "0           0        0      0  \n",
       "1           0        0      0  \n",
       "2           0        1      0  \n",
       "3           1        1      0  \n",
       "4           0        0      0  \n",
       "\n",
       "[5 rows x 25 columns]"
      ]
     },
     "execution_count": 228,
     "metadata": {},
     "output_type": "execute_result"
    }
   ],
   "source": [
    "df.head()"
   ]
  },
  {
   "cell_type": "code",
   "execution_count": 229,
   "id": "8a66e3e6",
   "metadata": {
    "execution": {
     "iopub.execute_input": "2021-08-03T10:27:14.112298Z",
     "iopub.status.busy": "2021-08-03T10:27:14.111609Z",
     "iopub.status.idle": "2021-08-03T10:27:14.114579Z",
     "shell.execute_reply": "2021-08-03T10:27:14.114075Z",
     "shell.execute_reply.started": "2021-08-03T10:09:12.520560Z"
    },
    "papermill": {
     "duration": 0.127828,
     "end_time": "2021-08-03T10:27:14.114725",
     "exception": false,
     "start_time": "2021-08-03T10:27:13.986897",
     "status": "completed"
    },
    "tags": []
   },
   "outputs": [],
   "source": [
    "ind_col = [col for col in df.columns if col != 'class']\n",
    "dep_col = 'class'\n",
    "\n",
    "X = df[ind_col]\n",
    "y = df[dep_col]"
   ]
  },
  {
   "cell_type": "code",
   "execution_count": 230,
   "id": "5cdcd5f7",
   "metadata": {
    "execution": {
     "iopub.execute_input": "2021-08-03T10:27:14.353157Z",
     "iopub.status.busy": "2021-08-03T10:27:14.352134Z",
     "iopub.status.idle": "2021-08-03T10:27:14.404364Z",
     "shell.execute_reply": "2021-08-03T10:27:14.404937Z",
     "shell.execute_reply.started": "2021-08-03T10:09:12.529198Z"
    },
    "papermill": {
     "duration": 0.174408,
     "end_time": "2021-08-03T10:27:14.405112",
     "exception": false,
     "start_time": "2021-08-03T10:27:14.230704",
     "status": "completed"
    },
    "tags": []
   },
   "outputs": [],
   "source": [
    "from sklearn.model_selection import train_test_split\n",
    "X_train, X_test, y_train, y_test = train_test_split(X, y, test_size = 0.30, random_state = 0)"
   ]
  },
  {
   "cell_type": "code",
   "execution_count": 231,
   "id": "8cab3352",
   "metadata": {
    "execution": {
     "iopub.execute_input": "2021-08-03T10:27:14.879598Z",
     "iopub.status.busy": "2021-08-03T10:27:14.878929Z",
     "iopub.status.idle": "2021-08-03T10:27:15.070838Z",
     "shell.execute_reply": "2021-08-03T10:27:15.071566Z",
     "shell.execute_reply.started": "2021-08-03T10:09:12.554483Z"
    },
    "papermill": {
     "duration": 0.318107,
     "end_time": "2021-08-03T10:27:15.071807",
     "exception": false,
     "start_time": "2021-08-03T10:27:14.753700",
     "status": "completed"
    },
    "tags": []
   },
   "outputs": [
    {
     "name": "stdout",
     "output_type": "stream",
     "text": [
      "Training Accuracy of KNN is 0.7535714285714286\n",
      "Test Accuracy of KNN is 0.6083333333333333 \n",
      "\n"
     ]
    }
   ],
   "source": [
    "from sklearn.neighbors import KNeighborsClassifier\n",
    "from sklearn.metrics import accuracy_score\n",
    "knn = KNeighborsClassifier()\n",
    "knn.fit(X_train, y_train)\n",
    "knn_acc = accuracy_score(y_test, knn.predict(X_test))\n",
    "\n",
    "print(f\"Training Accuracy of KNN is {accuracy_score(y_train, knn.predict(X_train))}\")\n",
    "print(f\"Test Accuracy of KNN is {knn_acc} \\n\")"
   ]
  },
  {
   "cell_type": "code",
   "execution_count": 232,
   "id": "9aa680a4",
   "metadata": {},
   "outputs": [
    {
     "name": "stdout",
     "output_type": "stream",
     "text": [
      "Training Accuracy of DTC is 1.0\n",
      "Test Accuracy of DTC is 0.9583333333333334 \n",
      "\n"
     ]
    }
   ],
   "source": [
    "from sklearn.tree import DecisionTreeClassifier\n",
    "from sklearn.metrics import accuracy_score\n",
    "dtc = DecisionTreeClassifier()\n",
    "dtc.fit(X_train, y_train)\n",
    "dtc_acc = accuracy_score(y_test, dtc.predict(X_test))\n",
    "\n",
    "print(f\"Training Accuracy of DTC is {accuracy_score(y_train, dtc.predict(X_train))}\")\n",
    "print(f\"Test Accuracy of DTC is {dtc_acc} \\n\")"
   ]
  },
  {
   "cell_type": "code",
   "execution_count": 233,
   "id": "8125ad61",
   "metadata": {
    "execution": {
     "iopub.execute_input": "2021-08-03T10:27:33.714473Z",
     "iopub.status.busy": "2021-08-03T10:27:33.713856Z",
     "iopub.status.idle": "2021-08-03T10:27:34.064502Z",
     "shell.execute_reply": "2021-08-03T10:27:34.063984Z",
     "shell.execute_reply.started": "2021-08-03T10:09:28.622258Z"
    },
    "papermill": {
     "duration": 0.471782,
     "end_time": "2021-08-03T10:27:34.064632",
     "exception": false,
     "start_time": "2021-08-03T10:27:33.592850",
     "status": "completed"
    },
    "tags": []
   },
   "outputs": [
    {
     "name": "stdout",
     "output_type": "stream",
     "text": [
      "Training Accuracy of Random Forest Classifier is 1.0\n",
      "Test Accuracy of Random Forest Classifier is 0.9583333333333334 \n",
      "\n"
     ]
    }
   ],
   "source": [
    "from sklearn.ensemble import RandomForestClassifier\n",
    "from sklearn.metrics import accuracy_score\n",
    "rfc = RandomForestClassifier(criterion='entropy', max_depth=11, max_features='sqrt', min_samples_leaf=2, min_samples_split=3, n_estimators=130)\n",
    "rfc.fit(X_train, y_train)\n",
    "rfc_acc = accuracy_score(y_test, rfc.predict(X_test))\n",
    "\n",
    "print(f\"Training Accuracy of Random Forest Classifier is {accuracy_score(y_train, rfc.predict(X_train))}\")\n",
    "print(f\"Test Accuracy of Random Forest Classifier is {rfc_acc} \\n\")\n"
   ]
  },
  {
   "cell_type": "code",
   "execution_count": 234,
   "id": "d0edf63f",
   "metadata": {
    "execution": {
     "iopub.execute_input": "2021-08-03T10:27:39.897082Z",
     "iopub.status.busy": "2021-08-03T10:27:39.896076Z",
     "iopub.status.idle": "2021-08-03T10:27:39.900448Z",
     "shell.execute_reply": "2021-08-03T10:27:39.899847Z",
     "shell.execute_reply.started": "2021-08-03T10:09:30.502974Z"
    },
    "papermill": {
     "duration": 0.137113,
     "end_time": "2021-08-03T10:27:39.900584",
     "exception": false,
     "start_time": "2021-08-03T10:27:39.763471",
     "status": "completed"
    },
    "tags": []
   },
   "outputs": [
    {
     "name": "stdout",
     "output_type": "stream",
     "text": [
      "                      Model     Score\n",
      "1  Decision Tree Classifier  0.958333\n",
      "2  Random Forest Classifier  0.958333\n",
      "0                       KNN  0.608333\n"
     ]
    }
   ],
   "source": [
    "models = pd.DataFrame({\n",
    "    'Model': ['KNN', 'Decision Tree Classifier', 'Random Forest Classifier'],\n",
    "    'Score': [knn_acc, dtc_acc, rfc_acc]\n",
    "})\n",
    "\n",
    "models_sorted = models.sort_values(by='Score', ascending=False)\n",
    "print(models_sorted)"
   ]
  }
 ],
 "metadata": {
  "kernelspec": {
   "display_name": "Python 3",
   "language": "python",
   "name": "python3"
  },
  "language_info": {
   "codemirror_mode": {
    "name": "ipython",
    "version": 3
   },
   "file_extension": ".py",
   "mimetype": "text/x-python",
   "name": "python",
   "nbconvert_exporter": "python",
   "pygments_lexer": "ipython3",
   "version": "3.12.2"
  },
  "papermill": {
   "default_parameters": {},
   "duration": 63.932833,
   "end_time": "2021-08-03T10:27:41.688051",
   "environment_variables": {},
   "exception": null,
   "input_path": "__notebook__.ipynb",
   "output_path": "__notebook__.ipynb",
   "parameters": {},
   "start_time": "2021-08-03T10:26:37.755218",
   "version": "2.3.3"
  }
 },
 "nbformat": 4,
 "nbformat_minor": 5
}
